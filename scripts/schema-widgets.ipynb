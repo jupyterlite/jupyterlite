{
 "cells": [
  {
   "cell_type": "markdown",
   "id": "400621d9-6deb-467f-acff-99d410c7d04b",
   "metadata": {},
   "source": [
    "# How might we generate JS/TS classes from ipywidgets?\n",
    "\n",
    "This is a companion piece to [@jtpio/jupyterlite#141](https://github.com/jtpio/jupyterlite/pull/141).\n",
    "\n",
    "The goal would be to arrive at a stably-versioned build of the `HasTraits` and `ipywidgets` APIs (without lower level `traitlets` internals) built on top of generic comms."
   ]
  },
  {
   "cell_type": "code",
   "execution_count": null,
   "id": "85d330b4-6709-44d1-a926-2ebc4d966d33",
   "metadata": {},
   "outputs": [],
   "source": [
    "from traitlets import *\n",
    "from ipywidgets import *\n",
    "\n",
    "import ipywidgets\n",
    "import jsonschema\n",
    "import pprint\n",
    "import warnings\n",
    "from pathlib import Path\n",
    "import IPython\n",
    "import json\n",
    "import tempfile\n",
    "import jinja2\n",
    "import subprocess"
   ]
  },
  {
   "cell_type": "markdown",
   "id": "d849b6f8-d74d-4206-934d-53d4c56a3ec7",
   "metadata": {},
   "source": [
    "## Our work cut out for us\n",
    "\n",
    "Eventually, we'll open this up for everything."
   ]
  },
  {
   "cell_type": "code",
   "execution_count": null,
   "id": "c880957a-a4d2-466d-bba3-6df39b021928",
   "metadata": {},
   "outputs": [],
   "source": [
    "def walk_subs(c):\n",
    "    yield c\n",
    "    for sub in c.__subclasses__():\n",
    "        for sub_sub in walk_subs(sub):\n",
    "            yield sub_sub\n",
    "    \n",
    "widget_classes = set(walk_subs(Widget))\n",
    "IPython.display.Markdown(f\"\"\"# {len(widget_classes)} Widget classes\"\"\")"
   ]
  },
  {
   "cell_type": "code",
   "execution_count": null,
   "id": "c43f174c-64cf-4207-a41a-1bb6042d9237",
   "metadata": {},
   "outputs": [],
   "source": [
    "wc = FloatSlider\n",
    "i = wc()\n",
    "i.keys, i.get_state()"
   ]
  },
  {
   "cell_type": "markdown",
   "id": "ef29d8bc-ab1f-4051-a75d-433160b03807",
   "metadata": {},
   "source": [
    "## We speak schema"
   ]
  },
  {
   "cell_type": "code",
   "execution_count": null,
   "id": "8a483552-7271-47ab-bfe2-e6861134a6b1",
   "metadata": {},
   "outputs": [],
   "source": [
    "BASE = {\n",
    "    \"type\": \"object\",\n",
    "    \"$schema\": \"http://json-schema.org/draft-07/schema#\",\n",
    "    # might regret this...\n",
    "    \"additionalProperties\": False,\n",
    "    \"$id\": f\"https://ipywidgets.readthedocs.io/en/{{ ipywidgets.__version__ }}/examples/Widget%20List.html\"\n",
    "}"
   ]
  },
  {
   "cell_type": "markdown",
   "id": "a6a09473-1185-4d8d-a539-79fd95968e17",
   "metadata": {},
   "source": [
    "### Always be validating"
   ]
  },
  {
   "cell_type": "code",
   "execution_count": null,
   "id": "1e6db48b-10e2-4997-8115-62b305141acb",
   "metadata": {},
   "outputs": [],
   "source": [
    "VALIDATING = True"
   ]
  },
  {
   "cell_type": "markdown",
   "id": "018ac6a1-94d3-495c-802b-c1e5b226e254",
   "metadata": {},
   "source": [
    "### Stuff we're not going to handle right now"
   ]
  },
  {
   "cell_type": "code",
   "execution_count": null,
   "id": "f6296e39-6515-4026-8cec-31a72ebd5826",
   "metadata": {},
   "outputs": [],
   "source": [
    "IGNORED_TRAITS = [\n",
    "    \"_display_callbacks\",\n",
    "    \"_msg_callbacks\",\n",
    "    \"_property_lock\",\n",
    "    \"comm\",\n",
    "    \"layout\",\n",
    "    \"log\",\n",
    "    \"readout_format\",\n",
    "    \"style\",\n",
    "    \"handle_color\",\n",
    "    \"bar_color\",\n",
    "    \"button_color\",\n",
    "    \"keys\"\n",
    "]"
   ]
  },
  {
   "cell_type": "markdown",
   "id": "ec79f0e5-60a9-4aa8-b5b0-510828d9cdaf",
   "metadata": {},
   "source": [
    "### How to get make a default (WIP)"
   ]
  },
  {
   "cell_type": "code",
   "execution_count": null,
   "id": "dfe96f0f-df57-4425-9e16-c88042e5fa85",
   "metadata": {},
   "outputs": [],
   "source": [
    "TO_DEFAULT = lambda t_name, i, s: {\n",
    "    \"default\": s.get(t_name) if t_name in s else {}\n",
    "}"
   ]
  },
  {
   "cell_type": "markdown",
   "id": "7203f462-a42a-4d35-ad98-b6ce622d29ee",
   "metadata": {},
   "source": [
    "### How to get any description"
   ]
  },
  {
   "cell_type": "code",
   "execution_count": null,
   "id": "557a55a7-1235-48b5-bfc4-296920af41fd",
   "metadata": {},
   "outputs": [],
   "source": [
    "TO_DESCRIPTION = lambda t_def: {\"description\": t_def.help}"
   ]
  },
  {
   "cell_type": "markdown",
   "id": "f95ca4d2-fc12-4522-8ae7-2142a68e7d4b",
   "metadata": {},
   "source": [
    "### How to map traits to schema (WIP)"
   ]
  },
  {
   "cell_type": "code",
   "execution_count": null,
   "id": "d123c91d-7aae-4a06-8739-44c76a51b895",
   "metadata": {},
   "outputs": [],
   "source": [
    "TYPE_TO_SCHEMA = {\n",
    "    str: {\"type\": \"string\"},\n",
    "    set: {\"type\": \"string\", \"uniqueItems\": True},\n",
    "    int: {\"type\": \"integer\"},\n",
    "    float: {\"type\": \"number\"},\n",
    "    bool: {\"type\": \"boolean\"}\n",
    "}\n",
    "TRAIT_TO_SCHEMA = {\n",
    "    Unicode: lambda t_name, t_def, i, s: {\"type\": \"string\"},\n",
    "    Float: lambda t_name, t_def, i, s: {\"type\": \"number\"},\n",
    "    Int: lambda t_name, t_def, i, s: {\"type\": \"integer\"},\n",
    "    Bool: lambda t_name, t_def, i, s: {\"type\": \"boolean\"},\n",
    "    CaselessStrEnum: lambda t_name, t_def, i, s: {\"enum\": t_def.values},\n",
    "    List: lambda t_name, t_def, i, s: {\n",
    "        \"type\": \"array\",\n",
    "        \"items\": {\"description\": f\"TODO: {t_name} = List({t_def.__dict__})\"}\n",
    "    },\n",
    "    Tuple: lambda t_name, t_def, i, s: {\n",
    "        \"type\": \"array\",\n",
    "        \"items\": {\"description\": f\"TODO: {t_name} = Tyuple({t_def.__dict__})\"}\n",
    "    },\n",
    "    Set: lambda t_name, t_def, i, s: {\n",
    "        \"type\": \"array\",\n",
    "        \"uniqueItems\": True,\n",
    "        \"items\": {\"description\": f\"TODO: {t_name} = Set({t_def.__dict__})\"}\n",
    "    },\n",
    "    Dict: lambda t_name, t_def, i, s: {\n",
    "        \"type\": \"object\",\n",
    "        \"description\": f\"TODO: {t_name} = Dict({t_def.__dict__})\"\n",
    "    },\n",
    "    trait_types.TypedTuple: lambda t_name, t_def, i, s: {\n",
    "        \"type\": \"array\",\n",
    "        \"items\": {\n",
    "            **(\n",
    "                {} if t_def._trait.__class__ not in TRAIT_TO_SCHEMA\n",
    "                else TRAIT_TO_SCHEMA[t_def._trait.__class__](t_name, t_def, i, s)\n",
    "            )\n",
    "        }\n",
    "    },\n",
    "    Any: lambda t_name, t_def, i, s: dict()\n",
    "}\n",
    "TRAIT_TO_SCHEMA[CUnicode] = TRAIT_TO_SCHEMA[Unicode]\n",
    "TRAIT_TO_SCHEMA[Color] = TRAIT_TO_SCHEMA[Unicode]\n",
    "TRAIT_TO_SCHEMA[CInt] = TRAIT_TO_SCHEMA[Int]\n",
    "TRAIT_TO_SCHEMA[CFloat] = TRAIT_TO_SCHEMA[Float]"
   ]
  },
  {
   "cell_type": "markdown",
   "id": "aa29c24f-0907-4c3f-925c-cd5ccaf0fe09",
   "metadata": {},
   "source": [
    "### handle one trait"
   ]
  },
  {
   "cell_type": "code",
   "execution_count": null,
   "id": "9b1bdb8a-7a1d-4c00-b884-028198eadbf2",
   "metadata": {},
   "outputs": [],
   "source": [
    "def one_trait(t_name, t_def, i, s):\n",
    "    if t_name in IGNORED_TRAITS:\n",
    "        return\n",
    "    t_cls = t_def.__class__\n",
    "    s_def = TRAIT_TO_SCHEMA.get(t_cls)\n",
    "    \n",
    "    if s_def:\n",
    "        non_null = {\n",
    "            **s_def(t_name, t_def, i, s),\n",
    "            **TO_DEFAULT(t_name, i, s),\n",
    "            **TO_DESCRIPTION(t_def)\n",
    "        }\n",
    "        \n",
    "        if getattr(t_def, \"allow_none\", None):\n",
    "            return {\"oneOf\": [non_null, {\"type\": \"null\"}]}\n",
    "        return non_null\n",
    "    \n",
    "    warnings.warn(f\"{t_name} {t_cls}\")"
   ]
  },
  {
   "cell_type": "markdown",
   "id": "e2a8b55c-53f7-4dd8-a634-ac9a0615036d",
   "metadata": {},
   "source": [
    "### Make schema"
   ]
  },
  {
   "cell_type": "code",
   "execution_count": null,
   "id": "7805fa51-055d-416c-8a1d-e450b98d201b",
   "metadata": {},
   "outputs": [],
   "source": [
    "def clean_state(i=None, wc=None):\n",
    "    i = i or wc()\n",
    "    s = {k: v for k, v in i.get_state().items() if k not in IGNORED_TRAITS}\n",
    "    s = {k: v for k, v in s.items() if not isinstance(v, bytes)}\n",
    "    return s"
   ]
  },
  {
   "cell_type": "code",
   "execution_count": null,
   "id": "5f004a34-295a-4a42-83fe-8a43d7249b99",
   "metadata": {},
   "outputs": [],
   "source": [
    "def make_protected_schema(i=None, wc=None, s=None):\n",
    "    i = i or wc()\n",
    "    s = s or clean_state(i)\n",
    "    properties = {\n",
    "        t_name: one_trait(t_name, t_def, i, s)\n",
    "        for t_name, t_def in i.traits().items()\n",
    "        if t_name not in IGNORED_TRAITS and one_trait(t_name, t_def, i, s)\n",
    "    }\n",
    "    default_protected = {\n",
    "        prop: getattr(i, prop) for prop in properties\n",
    "    }\n",
    "    default_protected = {\n",
    "        prop: list(val) if isinstance(val, (set)) else val\n",
    "        for prop, val in default_protected.items()\n",
    "    }\n",
    "    \n",
    "    return {\n",
    "        \"title\": f\"{wc.__name__} Protected\",\n",
    "        \"description\": f\"The protected API for {wc.__name__}\",\n",
    "        **BASE,\n",
    "        \"default\": default_protected,\n",
    "        \"properties\": properties, \n",
    "        \"required\": sorted(default_protected.keys()),\n",
    "    }"
   ]
  },
  {
   "cell_type": "code",
   "execution_count": null,
   "id": "cbfb51d6-98ce-4648-9a10-376fffb42ad8",
   "metadata": {},
   "outputs": [],
   "source": [
    "def make_public_schema(i=None, wc=None, s=None, protected=None):\n",
    "    i = i or wc()\n",
    "    s = s or clean_state(i, wc)\n",
    "    protected = make_protected_schema(i, wc, s)\n",
    "    in_keys = {\n",
    "        name: schema for name, schema \n",
    "        in protected[\"properties\"].items() \n",
    "        if name in i.keys\n",
    "    }\n",
    "    \n",
    "    default_public = {**s}\n",
    "    return {\n",
    "        \"title\": f\"{wc.__name__} public\",\n",
    "        \"description\": f\"The public API for {wc.__name__}\",\n",
    "        **BASE,\n",
    "        \"default\": default_public,\n",
    "        \"properties\": {\n",
    "            name: protected[\"properties\"][name] for name in in_keys\n",
    "        },\n",
    "        \"required\": sorted(in_keys.keys()),\n",
    "    }"
   ]
  },
  {
   "cell_type": "code",
   "execution_count": null,
   "id": "36b9f398-3ce7-43e0-8955-248d7acc9ef2",
   "metadata": {},
   "outputs": [],
   "source": [
    "def widget_to_json_schemata(i=None, wc=None, s=None):\n",
    "    \"\"\" generate the full public and protected schemata\n",
    "    \"\"\"\n",
    "    i = i or wc()\n",
    "    s = s or clean_state(i, wc)\n",
    "    protected = make_protected_schema(i, wc, s)\n",
    "    public = make_public_schema(i, wc, s, protected)\n",
    "\n",
    "    return public, protected\n",
    "for schema in widget_to_json_schemata(wc=wc):\n",
    "    IPython.display.display(IPython.display.JSON(schema))"
   ]
  },
  {
   "cell_type": "markdown",
   "id": "5ebdbc98-70ae-4195-b832-6f28cf6c4233",
   "metadata": {},
   "source": [
    "### validate"
   ]
  },
  {
   "cell_type": "code",
   "execution_count": null,
   "id": "f2475d24-4419-442c-a371-8b7ba9434a9f",
   "metadata": {},
   "outputs": [],
   "source": [
    "def validate(i=None, wc=None, schemata=None):\n",
    "    i = i or wc()\n",
    "    schemata = schemata or widget_to_json_schemata(i, wc)\n",
    "    for api in schemata:\n",
    "        api_default = json.loads(json.dumps(api[\"default\"]))\n",
    "        errors = [\n",
    "            err.__dict__\n",
    "            for err\n",
    "            in jsonschema.Draft7Validator(api).iter_errors(api_default)\n",
    "        ]\n",
    "        if not errors:\n",
    "            print(wc.__name__, \"OK\")\n",
    "        if errors and VALIDATING:\n",
    "            [\n",
    "                print(err)\n",
    "                for err in errors\n",
    "            ]\n",
    "            raise ValueError(f\"{len(errors)} in {wc.__name__}\")\n",
    "    return schemata\n",
    "validate(i, wc);"
   ]
  },
  {
   "cell_type": "code",
   "execution_count": null,
   "id": "c74fb7e3-4b82-43de-80b5-aedc358e106e",
   "metadata": {},
   "outputs": [],
   "source": [
    "BASE_JSON_TO_TS = lambda comment: [\n",
    "    \"yarn\", \"json2ts\", \"--unreachableDefintions\", \"--bannerComment\", f\"\"\"/** \n",
    "    {comment} \n",
    "    */\"\"\"\n",
    "]"
   ]
  },
  {
   "cell_type": "code",
   "execution_count": null,
   "id": "eec56431-338e-4b54-ad1e-fb5c611478d6",
   "metadata": {
    "tags": []
   },
   "outputs": [],
   "source": [
    "def make_a_widget_type_description(schemata=None, wc=None):\n",
    "    schemata = schemata or validate(wc=wc)\n",
    "    \n",
    "    final_dts = \"\"\n",
    "    \n",
    "    with tempfile.TemporaryDirectory() as td:\n",
    "        tdp = Path(td)\n",
    "        for api in schemata:\n",
    "            schema_json = tdp / \"foo.json\"\n",
    "            schema_json.write_text(json.dumps(api))\n",
    "            dts = tdp / \"foo.d.ts\"\n",
    "            args = [*BASE_JSON_TO_TS(f\"@see {wc.__name__}\"), \"-i\", schema_json, \"-o\", dts]\n",
    "            subprocess.check_call([*map(str, args)], cwd=Path.cwd().parent)\n",
    "            final_dts += \"\\n\" + dts.read_text()\n",
    "            print(len(final_dts))\n",
    "    return final_dts\n",
    "make_a_widget_type_description(wc=wc)"
   ]
  },
  {
   "cell_type": "code",
   "execution_count": null,
   "id": "25d73125-24ee-4c4f-a152-24cf30815675",
   "metadata": {
    "tags": []
   },
   "outputs": [],
   "source": [
    "all_schema = {}\n",
    "for wc in widget_classes:\n",
    "    try:\n",
    "        all_schema[wc] = validate(wc=wc)\n",
    "        IPython.get_ipython().log.info(\"OK %s\", wc.__name__)\n",
    "    except Exception as err:\n",
    "        IPython.get_ipython().log.warning(err)\n",
    "len(all_schema)"
   ]
  },
  {
   "cell_type": "code",
   "execution_count": null,
   "id": "99a5734d-c03b-4a98-80cc-a131981e2cc8",
   "metadata": {
    "tags": []
   },
   "outputs": [],
   "source": [
    "def build_an_any_of_tree(all_schema, wc):\n",
    "    definitions = {\n",
    "        f\"\"\"I{\"Protected\" if si else \"Public\"}{c.__name__}\"\"\": schema\n",
    "        for c, schemata in all_schema.items()\n",
    "        for si, schema in enumerate(schemata)\n",
    "    }\n",
    "    return {\n",
    "        \"title\": f\"Any {wc.__name__}\",\n",
    "        **BASE,\n",
    "        \"anyOf\": [\n",
    "            {\n",
    "                \"title\": \"A Public Widget\",\n",
    "                \"anyOf\": [\n",
    "                    {\"$ref\": f\"#/definitions/{ref}\"}\n",
    "                     for ref in definitions if ref.startswith(\"IPublic\")\n",
    "                ]\n",
    "            },\n",
    "            {\n",
    "                \"title\": \"A Protected Widget\",\n",
    "                \"anyOf\": [\n",
    "                    {\"$ref\": f\"#/definitions/{ref}\"}\n",
    "                     for ref in definitions if ref.startswith(\"IProtected\")\n",
    "                ]\n",
    "            },\n",
    "        ],\n",
    "        \"definitions\": definitions,\n",
    "    }\n",
    "any_of_tree = build_an_any_of_tree(all_schema, wc=Widget)"
   ]
  },
  {
   "cell_type": "code",
   "execution_count": null,
   "id": "9f7c947a-db04-41d5-ba6f-962bc2d5a5bc",
   "metadata": {
    "tags": []
   },
   "outputs": [],
   "source": [
    "all_dts = make_a_widget_type_description(schemata=[any_of_tree], wc=Widget)"
   ]
  },
  {
   "cell_type": "code",
   "execution_count": null,
   "id": "712d2b85-e0a6-41ea-b8ca-209f98ebe6ca",
   "metadata": {
    "tags": []
   },
   "outputs": [],
   "source": [
    "any_of_tree[\"definitions\"].keys()"
   ]
  },
  {
   "cell_type": "markdown",
   "id": "f6c6b0d7-3a0f-4d25-8098-411371ca28a8",
   "metadata": {},
   "source": [
    "## Write out the types"
   ]
  },
  {
   "cell_type": "code",
   "execution_count": null,
   "id": "6e7507d0-0dc6-44c3-b2c9-71daad7d4c86",
   "metadata": {},
   "outputs": [],
   "source": [
    "proto = Path.cwd().parent / \"packages/kernel/src/proto_widgets.ts\"\n",
    "assert proto.exists()\n",
    "kernel_src = proto.parent\n",
    "_schema_widgets = kernel_src / \"_schema_widgets.d.ts\""
   ]
  },
  {
   "cell_type": "code",
   "execution_count": null,
   "id": "808f1bd5-2c2c-4325-bf54-ad547b42499d",
   "metadata": {},
   "outputs": [],
   "source": [
    "_schema_widgets.write_text(all_dts)"
   ]
  },
  {
   "cell_type": "markdown",
   "id": "c6676487-66b9-4210-9527-e8148ce18164",
   "metadata": {},
   "source": [
    "## Write out the JSON"
   ]
  },
  {
   "cell_type": "code",
   "execution_count": null,
   "id": "4d651157-1d92-4638-9256-6db9b9368444",
   "metadata": {},
   "outputs": [],
   "source": [
    "_schema_json = kernel_src / \"_schema_widgets.json\"\n",
    "json_dump = dict(sum([\n",
    "    [(f\"IPublic{wc.__name__}\", public), (f\"IProtected{wc.__name__}\", protected)] \n",
    "    for wc, [public, protected] in all_schema.items()\n",
    "], []))\n",
    "_schema_json.write_text(json.dumps(\n",
    "json_dump,\n",
    "indent=2\n",
    "))"
   ]
  },
  {
   "cell_type": "markdown",
   "id": "aac2bd80-13f3-4905-8a2a-2182f75919e2",
   "metadata": {},
   "source": [
    "## More classes"
   ]
  },
  {
   "cell_type": "code",
   "execution_count": null,
   "id": "407166d2-931c-48be-8102-c3eca709b967",
   "metadata": {},
   "outputs": [],
   "source": [
    "HEADER = f\"\"\"\n",
    "/* eslint-disable */\n",
    "/***************************************************************************************************\n",
    " * THIS FILE IS AUTO-GENERATED FROM *    See `/scripts/schema-widgets.ipynb`, which also generates  \n",
    " ********  ipywidgets {ipywidgets.__version__}  ********    `_schema_widgets.d.ts` and `_schema_widgets.json`.\n",
    " * \n",
    " * @see https://ipywidgets.readthedocs.io/en/{ ipywidgets.__version__ }/examples/Widget%20List.html\n",
    " * @see https://github.com/jtpio/jupyterlite/pull/141\n",
    " ***************************************************************************************************/\n",
    "import * as PROTO from './_schema_widgets';\n",
    "import * as SCHEMA from './_schema_widgets.json';\n",
    "import {{_HasTraits, _Widget}} from './proto_widgets';\n",
    "export let ALL = {{}} as Record<string, any>;\n",
    "\"\"\""
   ]
  },
  {
   "cell_type": "code",
   "execution_count": null,
   "id": "52963311-14a4-4f93-8898-a2c33c9992e1",
   "metadata": {},
   "outputs": [],
   "source": [
    "FOOTER = \"\"\"\n",
    "// fin\n",
    "\"\"\""
   ]
  },
  {
   "cell_type": "code",
   "execution_count": null,
   "id": "f6b11a30-33ce-458e-95f4-afb8103f32c9",
   "metadata": {},
   "outputs": [],
   "source": [
    "TEMPLATE = jinja2.Template(\"\"\"{{ HEADER }}\n",
    "{% for ns, wcs in widget_classes|groupby(\"ns\") %}\n",
    "export namespace {{ ns | join(\"_\") }} {\n",
    "    {% for item in wcs %}\n",
    "    {% set wc = item.wc %}\n",
    "    {% set n = wc.__name__ %}\n",
    "    {% set scopes = [\"Public\", \"Protected\"] %}\n",
    "    {% if n not in [\"Widget\", \"interactive\"] %}\n",
    "    {% set t = \"TAny\" + n %}\n",
    "    /** a type for the traits of {{ n }}*/\n",
    "    export type {{ t }} = {% for s in scopes %}{% if loop.index0 %} | {% endif %}PROTO.{{ n }}{{ s }}{% endfor %};\n",
    "\n",
    "    /** a naive {{ n }} \n",
    "\n",
    "    {{ wc.__doc__ }}\n",
    "\n",
    "    @see https://ipywidgets.readthedocs.io/en/7.6.3/examples/Widget%20List.html#{{ wc.__name__ }}\n",
    "    */\n",
    "    export class _{{ n }} extends _Widget<{{ t }}> {\n",
    "      constructor(options: {{ t }}) {\n",
    "        super({ ..._{{ n }}.defaults(), ...options });\n",
    "      }\n",
    "\n",
    "      static defaults(): {{ t }} {\n",
    "        return {\n",
    "          ...super.defaults(),\n",
    "          {%- for s in scopes %}\n",
    "          ...SCHEMA.I{{ s }}{{ n }}.default,{% endfor %}\n",
    "        };\n",
    "      }\n",
    "    }\n",
    "\n",
    "    /** the concrete observable {{ n }} */\n",
    "    export const {{ n }} = _HasTraits._traitMeta<{{ t }}>(_{{ n }}); \n",
    "    \n",
    "    if (!ALL['{{ n }}']) {\n",
    "        ALL['{{ n }}'] = {{ n }};\n",
    "    } else {\n",
    "        console.log('{{ n }} is already hoisted', ALL['{{ n }}']);\n",
    "    }\n",
    "    {% endif %}\n",
    "    // ---\n",
    "    {% endfor %}\n",
    "} // end of {{ ns }}\n",
    "{% endfor %}\n",
    "{{ FOOTER }}\"\"\")"
   ]
  },
  {
   "cell_type": "code",
   "execution_count": null,
   "id": "0e877b02-351a-452c-a025-87a367d3f0b4",
   "metadata": {},
   "outputs": [],
   "source": [
    "some_ts = TEMPLATE.render(widget_classes=[\n",
    "        {\"wc\": wc, \"ns\": wc.__module__.split(\".\")}\n",
    "        for wc, [public, protected] in all_schema.items()\n",
    "], HEADER=HEADER, FOOTER=FOOTER)"
   ]
  },
  {
   "cell_type": "code",
   "execution_count": null,
   "id": "62b78ba6-5eb6-44ae-8375-605942b34b95",
   "metadata": {
    "tags": []
   },
   "outputs": [],
   "source": [
    "IPython.display.Markdown(f\"\"\"```ts\n",
    "{some_ts.split(\"// ---\")[0]}\n",
    "```\"\"\")"
   ]
  },
  {
   "cell_type": "code",
   "execution_count": null,
   "id": "2e348658-073d-44e4-9582-5c44b7a07860",
   "metadata": {
    "tags": []
   },
   "outputs": [],
   "source": [
    "_ts_proto_wrappers = kernel_src / \"_proto_wrappers.ts\"\n",
    "_ts_proto_wrappers.write_text(some_ts)"
   ]
  },
  {
   "cell_type": "markdown",
   "id": "c1aea762-0db8-4e6e-9d00-067738e1b7b7",
   "metadata": {},
   "source": [
    "## Prettier"
   ]
  },
  {
   "cell_type": "code",
   "execution_count": null,
   "id": "c5613ab6-7493-4d29-ad5f-15f17cf33fc3",
   "metadata": {},
   "outputs": [],
   "source": [
    "!cd .. && node ./node_modules/.bin/prettier --write packages/kernel/src/*"
   ]
  }
 ],
 "metadata": {
  "kernelspec": {
   "display_name": "Python 3",
   "language": "python",
   "name": "python3"
  },
  "language_info": {
   "codemirror_mode": {
    "name": "ipython",
    "version": 3
   },
   "file_extension": ".py",
   "mimetype": "text/x-python",
   "name": "python",
   "nbconvert_exporter": "python",
   "pygments_lexer": "ipython3",
   "version": "3.8.10"
  }
 },
 "nbformat": 4,
 "nbformat_minor": 5
}
