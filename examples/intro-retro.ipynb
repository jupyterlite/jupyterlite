{
 "cells": [
  {
   "cell_type": "markdown",
   "id": "7554b29e-0c66-413f-bda1-8e5ecef46c07",
   "metadata": {},
   "source": [
    "# RetroLab Introduction 🌅\n",
    "\n",
    "RetroLab is an alternative JupyterLab distribution, built from the ground-up with\n",
    "JupyterLab components, giving the same look and feel as the Classic Jupyter Notebook\n",
    "interface.\n",
    "\n",
    "> **See Also**: For more information about RetroLab, see\n",
    "> [the RetroLab documentation](https://github.com/jupyterlab/retrolab#introduction) and\n",
    "> [the RetroLab announcement blog post](https://blog.jupyter.org/retrolab-a-jupyterlab-distribution-with-a-retro-look-and-feel-8096b8b223d0).\n",
    "\n",
    "RetroLab is focused on a **single document experience**, but re-uses components from the\n",
    "more flexible (but complex) [JupyterLab interface](https://jupyterlab.readthedocs.io).\n",
    "This allows extensions to work between both interfaces, and streamlines the user\n",
    "experience so that they complement one another.\n",
    "\n",
    "You can do anything with a Jupyter Notebook that you could do with JupyterLab. For\n",
    "example, see the [intro.ipynb](intro.ipynb) Jupyter Notebook, which is an introduction\n",
    "to this repository's content and contains some pointers to get you started.\n",
    "\n",
    "> **Note**: This interface is provided by the\n",
    "> [JupyterLite project](https://jupyterlite.readthedocs.io/en/latest/), which embeds an\n",
    "> entire JupyterLab interface, with many popular packages for scientific computing, in\n",
    "> your browser. There may be some minor differences in behavior between JupyterLite and\n",
    "> the JupyterLab you install locally."
   ]
  }
 ],
 "metadata": {
  "kernelspec": {
   "display_name": "Python (Pyodide)",
   "language": "python",
   "name": "python"
  },
  "language_info": {
   "codemirror_mode": {
    "name": "python",
    "version": 3
   },
   "file_extension": ".py",
   "mimetype": "text/x-python",
   "name": "python",
   "nbconvert_exporter": "python",
   "pygments_lexer": "ipython3",
   "version": "3.8"
  }
 },
 "nbformat": 4,
 "nbformat_minor": 5
}
