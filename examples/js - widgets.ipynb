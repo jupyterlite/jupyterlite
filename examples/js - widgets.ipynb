{
  "metadata": {
    "language_info": {
      "codemirror_mode": {
        "name": "javascript"
      },
      "file_extension": ".js",
      "mimetype": "text/javascript",
      "name": "javascript",
      "nbconvert_exporter": "javascript",
      "pygments_lexer": "javascript",
      "version": "es2017"
    },
    "kernelspec": {
      "name": "javascript",
      "display_name": "JavaScript",
      "language": "javascript"
    }
  },
  "nbformat_minor": 4,
  "nbformat": 4,
  "cells": [
    {
      "cell_type": "markdown",
      "source": "> **Please do not expect this to be a stable API**\n\nThis is an exploration of supporting comms in JupyterLite [@jtpio/jupyterlite#14](https://github.com/jtpio/jupyterlite/issues/18) built for [@jtpio/jupyterlite#141](https://github.com/jtpio/jupyterlite/pull/141).\n\n> You should be able to view this by visiting the [PR docs site](https://jupyterlite--141.org.readthedocs.build/en/141/_static/lab/index.html) \n(kindly hosted by [ReadTheDocs](https://readthedocs.org)).\n>\n> ```\n> https://jupyterlite--141.org.readthedocs.build/en/141/_static/lab/index.html\n> ```\n\n<details>\n    <summary>Notes</summary>\n    <pre>\n    # why do this?\n    \n    \n    </pre>\n</details>",
      "metadata": {}
    },
    {
      "cell_type": "markdown",
      "source": "## `FloatSliders` with `observe`",
      "metadata": {}
    },
    {
      "cell_type": "code",
      "source": "let {FloatSlider} = kernel.widgets\nself.x = FloatSlider({ description: \"$x$\", min: -Math.PI, max: Math.PI }); x.display();\nObject.entries({sin: Math.sin, cos: Math.cos}).map(([k, fn])=> {\n    self[k] = FloatSlider({ description: '$\\\\' + k + '{x}$', min: -1, max: 1});\n    x.observe(async (change) => self[k].value = fn(change.new))\n    self[k].display()\n})",
      "metadata": {
        "trusted": true
      },
      "execution_count": null,
      "outputs": []
    },
    {
      "cell_type": "markdown",
      "source": "The values _should_ change when set manually.",
      "metadata": {}
    },
    {
      "cell_type": "code",
      "source": "x.value = -3",
      "metadata": {
        "trusted": true
      },
      "execution_count": null,
      "outputs": []
    },
    {
      "cell_type": "markdown",
      "source": "A second copy _should_ work...",
      "metadata": {}
    },
    {
      "cell_type": "code",
      "source": "x.display()",
      "metadata": {
        "trusted": true
      },
      "execution_count": null,
      "outputs": []
    },
    {
      "cell_type": "markdown",
      "source": "## `Select`",
      "metadata": {}
    },
    {
      "cell_type": "code",
      "source": "let { Select } = kernel.widgets\noptions = [\"apple\", \"banana\"]\nself.it = it = Select({rows: 1, description: \"it\", options, _options_labels: options})\nit.display()",
      "metadata": {
        "trusted": true
      },
      "execution_count": null,
      "outputs": []
    },
    {
      "cell_type": "markdown",
      "source": "## `link`",
      "metadata": {}
    },
    {
      "cell_type": "code",
      "source": "let { link } = kernel.widgets\nlet { Select } = kernel.widgets\noptions = [\"apple\", \"banana\"]\nlet [it1, it2] = [\"one\", \"another\"].map((d) => Select({rows: 1, description: d, options, _options_labels: options}))\nself.it1 = it1\nself.it2 = it2\nlink([it1, \"index\"], [it2, \"index\"])\nit1.display()\nit2.display()",
      "metadata": {
        "trusted": true
      },
      "execution_count": null,
      "outputs": []
    },
    {
      "cell_type": "markdown",
      "source": "## `dlink`",
      "metadata": {}
    },
    {
      "cell_type": "code",
      "source": "let { dlink, FloatSlider } = kernel.widgets;\nself.src = FloatSlider()\nself.tgt = FloatSlider()\nself.c = dlink([src, 'value'], [tgt, 'value'])\nsrc.display()\ntgt.display()",
      "metadata": {
        "trusted": true
      },
      "execution_count": null,
      "outputs": []
    },
    {
      "cell_type": "code",
      "source": "src.value = 5 // updates target objects",
      "metadata": {
        "trusted": true
      },
      "execution_count": null,
      "outputs": []
    },
    {
      "cell_type": "code",
      "source": "tgt.value = 6 // does not update source object",
      "metadata": {
        "trusted": true
      },
      "execution_count": null,
      "outputs": []
    },
    {
      "cell_type": "markdown",
      "source": "## `dlink` (with a transform)",
      "metadata": {}
    },
    {
      "cell_type": "code",
      "source": "let { dlink } = kernel.widgets;\nc.unlink()\nc = dlink([src, 'value'], [tgt, 'value'], (x) => 2 * x)\nsrc.display()\ntgt.display()",
      "metadata": {
        "trusted": true
      },
      "execution_count": null,
      "outputs": []
    }
  ]
}
