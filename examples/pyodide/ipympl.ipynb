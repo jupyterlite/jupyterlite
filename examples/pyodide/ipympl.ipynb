{
 "cells": [
  {
   "cell_type": "code",
   "execution_count": null,
   "id": "ec40ad8e",
   "metadata": {},
   "outputs": [],
   "source": [
    "%pip install -q ipympl"
   ]
  },
  {
   "cell_type": "code",
   "execution_count": null,
   "id": "8f5c4aaf",
   "metadata": {},
   "outputs": [],
   "source": [
    "%matplotlib widget\n",
    "\n",
    "import matplotlib.pyplot as plt\n",
    "import numpy as np"
   ]
  },
  {
   "cell_type": "code",
   "execution_count": null,
   "id": "1d6f37a5",
   "metadata": {},
   "outputs": [],
   "source": [
    "# Testing matplotlib interactions with a simple plot\n",
    "fig = plt.figure()\n",
    "plt.plot(np.sin(np.linspace(0, 20, 100)));"
   ]
  },
  {
   "cell_type": "code",
   "execution_count": null,
   "id": "e0e95dca",
   "metadata": {},
   "outputs": [],
   "source": [
    "fig.canvas.toolbar_visible = False\n",
    "fig.canvas.header_visible = False  # Hide the Figure name at the top of the figure"
   ]
  },
  {
   "cell_type": "code",
   "execution_count": null,
   "id": "ea604472",
   "metadata": {},
   "outputs": [],
   "source": [
    "fig.canvas.footer_visible = False"
   ]
  },
  {
   "cell_type": "code",
   "execution_count": null,
   "id": "625a2f55",
   "metadata": {},
   "outputs": [],
   "source": [
    "fig.canvas.resizable = False"
   ]
  },
  {
   "cell_type": "code",
   "execution_count": null,
   "id": "303dc572",
   "metadata": {},
   "outputs": [],
   "source": [
    "fig.canvas.capture_scroll = True"
   ]
  },
  {
   "cell_type": "code",
   "execution_count": null,
   "id": "54689d7e",
   "metadata": {},
   "outputs": [],
   "source": [
    "fig.canvas.toolbar_visible = True\n",
    "display(fig.canvas)"
   ]
  },
  {
   "cell_type": "code",
   "execution_count": null,
   "id": "e5dccdd6",
   "metadata": {},
   "outputs": [],
   "source": [
    "from mpl_toolkits.mplot3d import axes3d\n",
    "\n",
    "fig = plt.figure()\n",
    "ax = fig.add_subplot(111, projection=\"3d\")\n",
    "\n",
    "# Grab some test data.\n",
    "X, Y, Z = axes3d.get_test_data(0.05)\n",
    "\n",
    "# Plot a basic wireframe.\n",
    "ax.plot_wireframe(X, Y, Z, rstride=10, cstride=10)\n",
    "\n",
    "plt.show()"
   ]
  }
 ],
 "metadata": {
  "kernelspec": {
   "display_name": "Python 3",
   "language": "python",
   "name": "python3"
  },
  "language_info": {
   "codemirror_mode": {
    "name": "ipython",
    "version": 3
   },
   "file_extension": ".py",
   "mimetype": "text/x-python",
   "name": "python",
   "nbconvert_exporter": "python",
   "pygments_lexer": "ipython3",
   "version": "3.8.10"
  }
 },
 "nbformat": 4,
 "nbformat_minor": 5
}
