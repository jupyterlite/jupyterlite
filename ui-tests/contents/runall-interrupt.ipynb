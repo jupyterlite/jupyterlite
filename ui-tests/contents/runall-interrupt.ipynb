{
 "cells": [
  {
   "cell_type": "code",
   "execution_count": null,
   "id": "651e71b1-c7a1-4f5e-9d2f-598cd8a09e4d",
   "metadata": {},
   "outputs": [],
   "source": [
    "from time import sleep\n",
    "\n",
    "1"
   ]
  },
  {
   "cell_type": "code",
   "execution_count": null,
   "id": "9f824aa3-2ec3-4b36-ba1f-ffe51f4ae794",
   "metadata": {},
   "outputs": [],
   "source": [
    "sleep(5)\n",
    "2"
   ]
  },
  {
   "cell_type": "code",
   "execution_count": null,
   "id": "a556841d-e9f6-4bf2-911b-d935c6b2d2f8",
   "metadata": {},
   "outputs": [],
   "source": [
    "sleep(2)\n",
    "3"
   ]
  },
  {
   "cell_type": "code",
   "execution_count": null,
   "id": "7914e533-2849-4a7e-b8d7-60d8de37f0a8",
   "metadata": {},
   "outputs": [],
   "source": [
    "sleep(2)\n",
    "4"
   ]
  },
  {
   "cell_type": "code",
   "execution_count": null,
   "id": "e1b4f6f8-6b2f-4b7b-8a3f-04f76fe25d06",
   "metadata": {},
   "outputs": [],
   "source": [
    "sleep(2)\n",
    "5"
   ]
  }
 ],
 "metadata": {
  "kernelspec": {
   "display_name": "Python (Pyodide)",
   "language": "python",
   "name": "python"
  },
  "language_info": {
   "codemirror_mode": {
    "name": "python",
    "version": 3
   },
   "file_extension": ".py",
   "mimetype": "text/x-python",
   "name": "python",
   "nbconvert_exporter": "python",
   "pygments_lexer": "ipython3",
   "version": "3.8"
  }
 },
 "nbformat": 4,
 "nbformat_minor": 5
}
