{
 "cells": [
  {
   "cell_type": "code",
   "execution_count": null,
   "id": "e3c4d1de",
   "metadata": {},
   "outputs": [],
   "source": [
    "s = R\"\"\"\n",
    "{\n",
    "  \"args\": {}\n",
    "}\n",
    "\"\"\"\n",
    "import json\n",
    "\n",
    "data = json.loads(s)\n",
    "with open(\"data.json\", \"w\") as f:\n",
    "    json.dump(data, f)\n",
    "with open(\"data.json\", \"w\") as f:\n",
    "    json.dump(data, f)"
   ]
  }
 ],
 "metadata": {
  "kernelspec": {
   "display_name": "Python (Pyodide)",
   "language": "python",
   "name": "python"
  },
  "language_info": {
   "codemirror_mode": {
    "name": "ipython",
    "version": 3
   },
   "file_extension": ".py",
   "mimetype": "text/x-python",
   "name": "python",
   "nbconvert_exporter": "python",
   "pygments_lexer": "ipython3",
   "version": "3.9.7"
  }
 },
 "nbformat": 4,
 "nbformat_minor": 5
}
