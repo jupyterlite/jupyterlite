{
  "metadata": {
    "kernelspec": {
      "name": "python",
      "display_name": "Python (Pyodide)",
      "language": "python"
    },
    "language_info": {
      "codemirror_mode": {
        "name": "python",
        "version": 3
      },
      "file_extension": ".py",
      "mimetype": "text/x-python",
      "name": "python",
      "nbconvert_exporter": "python",
      "pygments_lexer": "ipython3",
      "version": "3.8"
    }
  },
  "nbformat_minor": 5,
  "nbformat": 4,
  "cells": [
    {
      "id": "651e71b1-c7a1-4f5e-9d2f-598cd8a09e4d",
      "cell_type": "code",
      "source": "foo = 1\nfoo",
      "metadata": {
        "trusted": true
      },
      "outputs": [],
      "execution_count": null
    },
    {
      "id": "9f824aa3-2ec3-4b36-ba1f-ffe51f4ae794",
      "cell_type": "code",
      "source": "foo = 2\nfoo",
      "metadata": {
        "trusted": true
      },
      "outputs": [],
      "execution_count": null
    },
    {
      "id": "a556841d-e9f6-4bf2-911b-d935c6b2d2f8",
      "cell_type": "code",
      "source": "foo = 3\nfoo",
      "metadata": {
        "trusted": true
      },
      "outputs": [],
      "execution_count": null
    },
    {
      "id": "7914e533-2849-4a7e-b8d7-60d8de37f0a8",
      "cell_type": "code",
      "source": "err",
      "metadata": {
        "trusted": true
      },
      "outputs": [],
      "execution_count": null
    },
    {
      "id": "e1b4f6f8-6b2f-4b7b-8a3f-04f76fe25d06",
      "cell_type": "code",
      "source": "foo = 4\nfoo",
      "metadata": {
        "trusted": true
      },
      "outputs": [],
      "execution_count": null
    },
    {
      "id": "1578d032-14c2-4b13-9602-d3a8d2d11185",
      "cell_type": "code",
      "source": "foo = 5\nfoo",
      "metadata": {
        "trusted": true
      },
      "outputs": [],
      "execution_count": null
    },
    {
      "id": "98133984-6c55-461a-a43a-a298875f4bc0",
      "cell_type": "code",
      "source": "foo",
      "metadata": {
        "trusted": true
      },
      "outputs": [],
      "execution_count": null
    }
  ]
}