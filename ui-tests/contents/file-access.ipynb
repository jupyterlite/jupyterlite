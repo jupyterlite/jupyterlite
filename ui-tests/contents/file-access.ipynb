{
 "cells": [
  {
   "cell_type": "code",
   "execution_count": null,
   "id": "6f7028b9-4d2c-4fa2-96ee-bfa77bbee434",
   "metadata": {},
   "outputs": [],
   "source": [
    "import numpy as np\n",
    "from pathlib import Path"
   ]
  },
  {
   "cell_type": "code",
   "execution_count": null,
   "id": "d54f697a",
   "metadata": {},
   "outputs": [],
   "source": [
    "DIR_NAME = \"test_dir\""
   ]
  },
  {
   "cell_type": "code",
   "execution_count": null,
   "id": "b6164812",
   "metadata": {},
   "outputs": [],
   "source": [
    "try:\n",
    "    Path(DIR_NAME).rmdir()\n",
    "except:\n",
    "    pass"
   ]
  },
  {
   "cell_type": "code",
   "execution_count": null,
   "id": "e3c4d1de",
   "metadata": {},
   "outputs": [],
   "source": [
    "folder = Path(DIR_NAME)\n",
    "folder.mkdir(exist_ok=True)\n",
    "\n",
    "for i in range(100):\n",
    "    data = np.random.randn(int(1e1))\n",
    "    np.save(folder / f\"data_{i}.npy\", data)\n",
    "\n",
    "print(\"done\")"
   ]
  },
  {
   "cell_type": "code",
   "execution_count": null,
   "id": "3f578200",
   "metadata": {},
   "outputs": [],
   "source": [
    "files = sorted(Path(DIR_NAME).iterdir())\n",
    "files"
   ]
  }
 ],
 "metadata": {
  "kernelspec": {
   "display_name": "Python (Pyodide)",
   "language": "python",
   "name": "python"
  },
  "language_info": {
   "codemirror_mode": {
    "name": "ipython",
    "version": 3
   },
   "file_extension": ".py",
   "mimetype": "text/x-python",
   "name": "python",
   "nbconvert_exporter": "python",
   "pygments_lexer": "ipython3",
   "version": "3.9.7"
  }
 },
 "nbformat": 4,
 "nbformat_minor": 5
}
