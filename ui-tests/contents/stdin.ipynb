{
 "cells": [
  {
   "cell_type": "code",
   "execution_count": null,
   "id": "6f7028b9-4d2c-4fa2-96ee-bfa77bbee434",
   "metadata": {},
   "outputs": [],
   "source": [
    "a = 3\n",
    "a"
   ]
  },
  {
   "cell_type": "code",
   "execution_count": null,
   "id": "8824bda",
   "metadata": {},
   "outputs": [],
   "source": [
    "name = input(\"Prompt:\")"
   ]
  },
  {
   "cell_type": "code",
   "execution_count": null,
   "id": "de253dc0",
   "metadata": {},
   "outputs": [],
   "source": [
    "name"
   ]
  },
  {
   "cell_type": "code",
   "execution_count": null,
   "id": "99674b4c",
   "metadata": {},
   "outputs": [],
   "source": [
    "import getpass\n",
    "\n",
    "pw = getpass.getpass(\"Password:\")"
   ]
  },
  {
   "cell_type": "code",
   "execution_count": null,
   "id": "ab32d8e9",
   "metadata": {},
   "outputs": [],
   "source": [
    "pw"
   ]
  },
  {
   "cell_type": "code",
   "execution_count": null,
   "id": "4826e634",
   "metadata": {},
   "outputs": [],
   "source": [
    "n0 = input(\"n0:\")\n",
    "n1 = input(\"n1:\")"
   ]
  },
  {
   "cell_type": "code",
   "execution_count": null,
   "id": "2271bf73",
   "metadata": {},
   "outputs": [],
   "source": [
    "n0, n1"
   ]
  }
 ],
 "metadata": {
  "kernelspec": {
   "display_name": "Python (Pyodide)",
   "language": "python",
   "name": "python"
  },
  "language_info": {
   "codemirror_mode": {
    "name": "ipython",
    "version": 3
   },
   "file_extension": ".py",
   "mimetype": "text/x-python",
   "name": "python",
   "nbconvert_exporter": "python",
   "pygments_lexer": "ipython3",
   "version": "3.9.7"
  }
 },
 "nbformat": 4,
 "nbformat_minor": 5
}
